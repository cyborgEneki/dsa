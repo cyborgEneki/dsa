{
 "cells": [
  {
   "cell_type": "markdown",
   "metadata": {},
   "source": [
    "Given an array nums, we define a running sum of an array as runningSum[i] = sum(nums[0]…nums[i]).\n",
    "Input: [1, 2, 3, 4]\n",
    "Output: [1, 1+2, 1+2+3, 1+2+3+4]\n",
    "Return the running sum of nums."
   ]
  },
  {
   "cell_type": "code",
   "execution_count": 1,
   "metadata": {},
   "outputs": [
    {
     "data": {
      "text/plain": [
       "[1, 3, 6, 10]"
      ]
     },
     "execution_count": 1,
     "metadata": {},
     "output_type": "execute_result"
    }
   ],
   "source": [
    "def runningSum(nums):\n",
    "    \"\"\"\n",
    "    :type nums: List[int]\n",
    "    :rtype: List[int]\n",
    "    \"\"\"\n",
    "    for i in range(1, len(nums)):\n",
    "        nums[i] = nums[i - 1] + nums[i]\n",
    "    \n",
    "    return nums\n",
    "\n",
    "runningSum([1, 2, 3, 4])"
   ]
  }
 ],
 "metadata": {
  "kernelspec": {
   "display_name": "karma",
   "language": "python",
   "name": "python3"
  },
  "language_info": {
   "codemirror_mode": {
    "name": "ipython",
    "version": 3
   },
   "file_extension": ".py",
   "mimetype": "text/x-python",
   "name": "python",
   "nbconvert_exporter": "python",
   "pygments_lexer": "ipython3",
   "version": "3.12.4"
  }
 },
 "nbformat": 4,
 "nbformat_minor": 2
}

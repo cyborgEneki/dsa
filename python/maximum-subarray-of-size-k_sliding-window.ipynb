{
 "cells": [
  {
   "cell_type": "markdown",
   "metadata": {},
   "source": [
    "Given an array containing book prices, find the maximum total price of any 5 contiguous books."
   ]
  },
  {
   "cell_type": "code",
   "execution_count": null,
   "metadata": {},
   "outputs": [
    {
     "data": {
      "text/plain": [
       "34"
      ]
     },
     "execution_count": 9,
     "metadata": {},
     "output_type": "execute_result"
    }
   ],
   "source": [
    "def maxSubarray(prices, k):\n",
    "    if len(prices) < k: return 0\n",
    "    \n",
    "    maxTotal = float('-inf')\n",
    "    total = sum(prices[:k])\n",
    "    \n",
    "    for i in range(len(prices) - k):\n",
    "        total -= prices[i]\n",
    "        total += prices[i + k]\n",
    "        maxTotal = max(maxTotal, total)\n",
    "    \n",
    "    return maxTotal\n",
    "        \n",
    "\n",
    "maxSubarray([1, 2, 3, 4, 5, 6, 7, 8, 8, 1, 2, 3, 4, 5, 6, 7, 8], 5)"
   ]
  },
  {
   "cell_type": "code",
   "execution_count": null,
   "metadata": {},
   "outputs": [],
   "source": []
  }
 ],
 "metadata": {
  "kernelspec": {
   "display_name": "karma",
   "language": "python",
   "name": "python3"
  },
  "language_info": {
   "codemirror_mode": {
    "name": "ipython",
    "version": 3
   },
   "file_extension": ".py",
   "mimetype": "text/x-python",
   "name": "python",
   "nbconvert_exporter": "python",
   "pygments_lexer": "ipython3",
   "version": "3.12.4"
  }
 },
 "nbformat": 4,
 "nbformat_minor": 2
}
